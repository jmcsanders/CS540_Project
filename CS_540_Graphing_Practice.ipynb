{
 "cells": [
  {
   "cell_type": "code",
   "execution_count": 1,
   "metadata": {},
   "outputs": [],
   "source": [
    "import pandas as pd\n",
    "import matplotlib.pyplot as plt\n"
   ]
  },
  {
   "cell_type": "code",
   "execution_count": 2,
   "metadata": {},
   "outputs": [],
   "source": [
    "Delay  = pd.read_csv('Delay.csv')\n",
    "Cause  = pd.read_csv('Cause.csv')\n",
    "Flight  = pd.read_csv('Flight.csv')\n",
    "Segment  = pd.read_csv('Segment.csv')"
   ]
  },
  {
   "cell_type": "code",
   "execution_count": 3,
   "metadata": {},
   "outputs": [
    {
     "name": "stdout",
     "output_type": "stream",
     "text": [
      "        DEP_TIME  DEP_DELAY_NEW  CANCELLED\n",
      "0          928.0            0.0          0\n",
      "1         1439.0            0.0          0\n",
      "2         1044.0            0.0          0\n",
      "3         1404.0            0.0          0\n",
      "4         1416.0            1.0          0\n",
      "...          ...            ...        ...\n",
      "379379    1408.0            0.0          0\n",
      "379380     835.0            0.0          0\n",
      "379381    1624.0            0.0          0\n",
      "379382    1744.0            0.0          0\n",
      "379383    1435.0           30.0          0\n",
      "\n",
      "[379384 rows x 3 columns]\n"
     ]
    }
   ],
   "source": [
    "print(Delay)"
   ]
  },
  {
   "cell_type": "code",
   "execution_count": 4,
   "metadata": {},
   "outputs": [
    {
     "name": "stdout",
     "output_type": "stream",
     "text": [
      "        CARRIER_DELAY  WEATHER_DELAY  NAS_DELAY  SECURITY_DELAY  \\\n",
      "0                 NaN            NaN        NaN             NaN   \n",
      "1                 NaN            NaN        NaN             NaN   \n",
      "2                 NaN            NaN        NaN             NaN   \n",
      "3                 NaN            NaN        NaN             NaN   \n",
      "4                 NaN            NaN        NaN             NaN   \n",
      "...               ...            ...        ...             ...   \n",
      "379379            NaN            NaN        NaN             NaN   \n",
      "379380            NaN            NaN        NaN             NaN   \n",
      "379381            NaN            NaN        NaN             NaN   \n",
      "379382            NaN            NaN        NaN             NaN   \n",
      "379383           25.0            0.0        0.0             0.0   \n",
      "\n",
      "        LATE_AIRCRAFT_DELAY  \n",
      "0                       NaN  \n",
      "1                       NaN  \n",
      "2                       NaN  \n",
      "3                       NaN  \n",
      "4                       NaN  \n",
      "...                     ...  \n",
      "379379                  NaN  \n",
      "379380                  NaN  \n",
      "379381                  NaN  \n",
      "379382                  NaN  \n",
      "379383                  0.0  \n",
      "\n",
      "[379384 rows x 5 columns]\n"
     ]
    }
   ],
   "source": [
    "print(Cause)"
   ]
  },
  {
   "cell_type": "code",
   "execution_count": 5,
   "metadata": {},
   "outputs": [
    {
     "name": "stdout",
     "output_type": "stream",
     "text": [
      "        QUARTER  MONTH  DAY_OF_MONTH  DAY_OF_WEEK     FL_DATE  \\\n",
      "0             1      1            23            6  2021-01-23   \n",
      "1             1      1            23            6  2021-01-23   \n",
      "2             1      1            23            6  2021-01-23   \n",
      "3             1      1            23            6  2021-01-23   \n",
      "4             1      1            23            6  2021-01-23   \n",
      "...         ...    ...           ...          ...         ...   \n",
      "379379        1      1            23            6  2021-01-23   \n",
      "379380        1      1            23            6  2021-01-23   \n",
      "379381        1      1            23            6  2021-01-23   \n",
      "379382        1      1            23            6  2021-01-23   \n",
      "379383        1      1            23            6  2021-01-23   \n",
      "\n",
      "       MKT_UNIQUE_CARRIER  \n",
      "0                      WN  \n",
      "1                      WN  \n",
      "2                      WN  \n",
      "3                      WN  \n",
      "4                      WN  \n",
      "...                   ...  \n",
      "379379                 WN  \n",
      "379380                 WN  \n",
      "379381                 WN  \n",
      "379382                 WN  \n",
      "379383                 WN  \n",
      "\n",
      "[379384 rows x 6 columns]\n"
     ]
    }
   ],
   "source": [
    "print(Flight)"
   ]
  },
  {
   "cell_type": "code",
   "execution_count": 6,
   "metadata": {},
   "outputs": [
    {
     "name": "stdout",
     "output_type": "stream",
     "text": [
      "       ORIGIN ORIGIN_CITY_NAME ORIGIN_STATE_ABR DEST      DEST_CITY_NAME  \\\n",
      "0         DAL       Dallas, TX               TX  SAT     San Antonio, TX   \n",
      "1         DAL       Dallas, TX               TX  SJC        San Jose, CA   \n",
      "2         DAL       Dallas, TX               TX  SLC  Salt Lake City, UT   \n",
      "3         DAL       Dallas, TX               TX  SMF      Sacramento, CA   \n",
      "4         DAL       Dallas, TX               TX  STL       St. Louis, MO   \n",
      "...       ...              ...              ...  ...                 ...   \n",
      "379379    DAL       Dallas, TX               TX  RNO            Reno, NV   \n",
      "379380    DAL       Dallas, TX               TX  SAN       San Diego, CA   \n",
      "379381    DAL       Dallas, TX               TX  SAN       San Diego, CA   \n",
      "379382    DAL       Dallas, TX               TX  SAT     San Antonio, TX   \n",
      "379383    DAL       Dallas, TX               TX  SAT     San Antonio, TX   \n",
      "\n",
      "       DEST_STATE_ABR  \n",
      "0                  TX  \n",
      "1                  CA  \n",
      "2                  UT  \n",
      "3                  CA  \n",
      "4                  MO  \n",
      "...               ...  \n",
      "379379             NV  \n",
      "379380             CA  \n",
      "379381             CA  \n",
      "379382             TX  \n",
      "379383             TX  \n",
      "\n",
      "[379384 rows x 6 columns]\n"
     ]
    }
   ],
   "source": [
    "print(Segment)"
   ]
  },
  {
   "cell_type": "code",
   "execution_count": 9,
   "metadata": {},
   "outputs": [],
   "source": [
    "Cause = Cause.fillna(0)"
   ]
  },
  {
   "cell_type": "code",
   "execution_count": 64,
   "metadata": {},
   "outputs": [
    {
     "name": "stdout",
     "output_type": "stream",
     "text": [
      "What airport are you flying from? JFK\n"
     ]
    }
   ],
   "source": [
    "location_input = input('What airport are you flying from? ')"
   ]
  },
  {
   "cell_type": "code",
   "execution_count": 65,
   "metadata": {},
   "outputs": [
    {
     "name": "stdout",
     "output_type": "stream",
     "text": [
      "        CARRIER_DELAY  WEATHER_DELAY  NAS_DELAY  SECURITY_DELAY  \\\n",
      "50761             0.0            0.0        0.0             0.0   \n",
      "50782             0.0            0.0        0.0             0.0   \n",
      "50807            65.0            0.0        0.0             0.0   \n",
      "50833             0.0            0.0      129.0             0.0   \n",
      "50848             0.0            0.0        0.0             0.0   \n",
      "...               ...            ...        ...             ...   \n",
      "284302            0.0            0.0        0.0             0.0   \n",
      "284307            0.0            0.0        0.0             0.0   \n",
      "284382            0.0            0.0        0.0             0.0   \n",
      "284450            0.0            0.0        0.0             0.0   \n",
      "284522            0.0            0.0        0.0             0.0   \n",
      "\n",
      "        LATE_AIRCRAFT_DELAY  \n",
      "50761                   0.0  \n",
      "50782                   0.0  \n",
      "50807                   0.0  \n",
      "50833                   0.0  \n",
      "50848                   0.0  \n",
      "...                     ...  \n",
      "284302                  0.0  \n",
      "284307                  0.0  \n",
      "284382                  0.0  \n",
      "284450                  0.0  \n",
      "284522                  0.0  \n",
      "\n",
      "[3260 rows x 5 columns]\n"
     ]
    }
   ],
   "source": [
    "location_causes = Cause.loc[Segment.ORIGIN==location_input]\n",
    "print(location_causes)"
   ]
  },
  {
   "cell_type": "code",
   "execution_count": 69,
   "metadata": {},
   "outputs": [
    {
     "name": "stdout",
     "output_type": "stream",
     "text": [
      "        DEP_TIME  DEP_DELAY_NEW  CANCELLED\n",
      "50761     1510.0            0.0          0\n",
      "50782      743.0            0.0          0\n",
      "50807     1116.0           81.0          0\n",
      "50833     1815.0          135.0          0\n",
      "50848     1504.0            0.0          0\n",
      "...          ...            ...        ...\n",
      "284302    1531.0            0.0          0\n",
      "284307    1755.0           20.0          0\n",
      "284382     720.0            0.0          0\n",
      "284450    1515.0            9.0          0\n",
      "284522     735.0            0.0          0\n",
      "\n",
      "[3260 rows x 3 columns]\n"
     ]
    }
   ],
   "source": [
    "location_delays = Delay.loc[Segment.ORIGIN==location_input]\n",
    "print(location_delays)"
   ]
  },
  {
   "cell_type": "code",
   "execution_count": 70,
   "metadata": {},
   "outputs": [
    {
     "name": "stdout",
     "output_type": "stream",
     "text": [
      "        QUARTER  MONTH  DAY_OF_MONTH  DAY_OF_WEEK     FL_DATE  \\\n",
      "50761         1      1             1            5  2021-01-01   \n",
      "50782         1      1             1            5  2021-01-01   \n",
      "50807         1      1             1            5  2021-01-01   \n",
      "50833         1      1             1            5  2021-01-01   \n",
      "50848         1      1             1            5  2021-01-01   \n",
      "...         ...    ...           ...          ...         ...   \n",
      "284302        1      1            17            7  2021-01-17   \n",
      "284307        1      1            17            7  2021-01-17   \n",
      "284382        1      1            17            7  2021-01-17   \n",
      "284450        1      1            17            7  2021-01-17   \n",
      "284522        1      1            17            7  2021-01-17   \n",
      "\n",
      "       MKT_UNIQUE_CARRIER  \n",
      "50761                  DL  \n",
      "50782                  DL  \n",
      "50807                  DL  \n",
      "50833                  DL  \n",
      "50848                  DL  \n",
      "...                   ...  \n",
      "284302                 DL  \n",
      "284307                 DL  \n",
      "284382                 DL  \n",
      "284450                 DL  \n",
      "284522                 DL  \n",
      "\n",
      "[3260 rows x 6 columns]\n"
     ]
    }
   ],
   "source": [
    "location_flights = Flight.loc[Segment.ORIGIN==location_input]\n",
    "print(location_flights)"
   ]
  },
  {
   "cell_type": "code",
   "execution_count": 71,
   "metadata": {},
   "outputs": [],
   "source": [
    "Sun_loc_delays = location_delays.loc[location_flights.DAY_OF_WEEK==1]\n",
    "Mon_loc_delays = location_delays.loc[location_flights.DAY_OF_WEEK==2]\n",
    "Tues_loc_delays = location_delays.loc[location_flights.DAY_OF_WEEK==3]\n",
    "Wed_loc_delays = location_delays.loc[location_flights.DAY_OF_WEEK==4]\n",
    "Thurs_loc_delays = location_delays.loc[location_flights.DAY_OF_WEEK==5]\n",
    "Fri_loc_delays = location_delays.loc[location_flights.DAY_OF_WEEK==6]\n",
    "Sat_loc_delays = location_delays.loc[location_flights.DAY_OF_WEEK==7]"
   ]
  },
  {
   "cell_type": "code",
   "execution_count": 72,
   "metadata": {},
   "outputs": [
    {
     "name": "stdout",
     "output_type": "stream",
     "text": [
      "[11.937093275488069, 4.498402555910543, 6.91358024691358, 4.108829568788501, 7.005597014925373, 7.894308943089431, 11.058359621451103]\n"
     ]
    }
   ],
   "source": [
    "averages = [Sun_loc_delays.DEP_DELAY_NEW.mean(), Mon_loc_delays.DEP_DELAY_NEW.mean(), Tues_loc_delays.DEP_DELAY_NEW.mean(), Wed_loc_delays.DEP_DELAY_NEW.mean(), Thurs_loc_delays.DEP_DELAY_NEW.mean(), Fri_loc_delays.DEP_DELAY_NEW.mean(), Sat_loc_delays.DEP_DELAY_NEW.mean()]\n",
    "print(averages)"
   ]
  },
  {
   "cell_type": "code",
   "execution_count": 73,
   "metadata": {},
   "outputs": [
    {
     "data": {
      "image/png": "[encoded data removed]",
      "text/plain": [
       "<Figure size 432x288 with 1 Axes>"
      ]
     },
     "metadata": {
      "needs_background": "light"
     },
     "output_type": "display_data"
    }
   ],
   "source": [
    "fig = plt.figure()\n",
    "ax = fig.add_axes([0,0,1,1])\n",
    "plt.bar(['Sunday', 'Monday', 'Tuesday', 'Wednesday', 'Thursday', 'Friday', 'Saturday'],averages)\n",
    "plt.title('Average Delay at %s including when there is no delay' %(location_input))\n",
    "plt.show()"
   ]
  },
  {
   "cell_type": "code",
   "execution_count": 74,
   "metadata": {},
   "outputs": [],
   "source": [
    "Sun_loc_delays_only = location_delays.loc[(location_flights.DAY_OF_WEEK==1) & (location_delays.DEP_DELAY_NEW!=0)]\n",
    "Mon_loc_delays_only = location_delays.loc[(location_flights.DAY_OF_WEEK==2) & (location_delays.DEP_DELAY_NEW!=0)]\n",
    "Tues_loc_delays_only = location_delays.loc[(location_flights.DAY_OF_WEEK==3) & (location_delays.DEP_DELAY_NEW!=0)]\n",
    "Wed_loc_delays_only = location_delays.loc[(location_flights.DAY_OF_WEEK==4) & (location_delays.DEP_DELAY_NEW!=0)]\n",
    "Thurs_loc_delays_only = location_delays.loc[(location_flights.DAY_OF_WEEK==5) & (location_delays.DEP_DELAY_NEW!=0)]\n",
    "Fri_loc_delays_only = location_delays.loc[(location_flights.DAY_OF_WEEK==6) & (location_delays.DEP_DELAY_NEW!=0)]\n",
    "Sat_loc_delays_only = location_delays.loc[(location_flights.DAY_OF_WEEK==7) & (location_delays.DEP_DELAY_NEW!=0)]"
   ]
  },
  {
   "cell_type": "code",
   "execution_count": 75,
   "metadata": {},
   "outputs": [
    {
     "name": "stdout",
     "output_type": "stream",
     "text": [
      "[53.950980392156865, 41.411764705882355, 45.714285714285715, 23.541176470588237, 36.81372549019608, 36.64150943396226, 42.75]\n"
     ]
    }
   ],
   "source": [
    "averages_delay_only = [Sun_loc_delays_only.DEP_DELAY_NEW.mean(), Mon_loc_delays_only.DEP_DELAY_NEW.mean(), Tues_loc_delays_only.DEP_DELAY_NEW.mean(), Wed_loc_delays_only.DEP_DELAY_NEW.mean(), Thurs_loc_delays_only.DEP_DELAY_NEW.mean(), Fri_loc_delays_only.DEP_DELAY_NEW.mean(), Sat_loc_delays_only.DEP_DELAY_NEW.mean()]\n",
    "print(averages_delay_only)"
   ]
  },
  {
   "cell_type": "code",
   "execution_count": 76,
   "metadata": {},
   "outputs": [
    {
     "data": {
      "image/png": "[encoded data removed]",
      "text/plain": [
       "<Figure size 432x288 with 1 Axes>"
      ]
     },
     "metadata": {
      "needs_background": "light"
     },
     "output_type": "display_data"
    }
   ],
   "source": [
    "fig = plt.figure()\n",
    "ax = fig.add_axes([0,0,1,1])\n",
    "plt.bar(['Sunday', 'Monday', 'Tuesday', 'Wednesday', 'Thursday', 'Friday', 'Saturday'],averages_delay_only)\n",
    "plt.title('Average Delay at %s when there is a delay' %(location_input))\n",
    "plt.show()"
   ]
  },
  {
   "cell_type": "code",
   "execution_count": 57,
   "metadata": {},
   "outputs": [],
   "source": [
    "delays_only=location_causes.loc[(location_causes.CARRIER_DELAY>0)|(location_causes.WEATHER_DELAY>0)|(location_causes.NAS_DELAY>0)|(location_causes.SECURITY_DELAY>0)|(location_causes.LATE_AIRCRAFT_DELAY>0)]\n",
    "num_total_delay = delays_only.CARRIER_DELAY.sum()+delays_only.WEATHER_DELAY.sum()+delays_only.NAS_DELAY.sum()+delays_only.SECURITY_DELAY.sum()+delays_only.LATE_AIRCRAFT_DELAY.sum()\n",
    "num_carrier_delay = delays_only.CARRIER_DELAY.sum()\n",
    "num_weather_delay = delays_only.WEATHER_DELAY.sum()\n",
    "num_nas_delay = delays_only.NAS_DELAY.sum()\n",
    "num_security_delay = delays_only.SECURITY_DELAY.sum()\n",
    "num_late_aircraft_delay = delays_only.LATE_AIRCRAFT_DELAY.sum()"
   ]
  },
  {
   "cell_type": "code",
   "execution_count": 58,
   "metadata": {},
   "outputs": [
    {
     "name": "stdout",
     "output_type": "stream",
     "text": [
      "[32.23544535556378, 0.0642761146062601, 36.452348025944175, 0.841432773027405, 30.40649773085838]\n"
     ]
    }
   ],
   "source": [
    "delay_percentages = [(num_carrier_delay/num_total_delay*100), (num_weather_delay/num_total_delay*100), (num_nas_delay/num_total_delay*100), (num_security_delay/num_total_delay*100), (num_late_aircraft_delay/num_total_delay*100)]\n",
    "print(delay_percentages)"
   ]
  },
  {
   "cell_type": "code",
   "execution_count": 62,
   "metadata": {},
   "outputs": [
    {
     "data": {
      "image/png": "[encoded data removed]",
      "text/plain": [
       "<Figure size 432x288 with 1 Axes>"
      ]
     },
     "metadata": {},
     "output_type": "display_data"
    }
   ],
   "source": [
    "fig = plt.figure()\n",
    "ax = fig.add_axes([0,0,1,1])\n",
    "ax.axis('equal')\n",
    "delay_types = ['Carrier', 'Weather', 'NAS', 'Security', 'Late Aircraft']\n",
    "explode = (0.1, 0.1, 0.1, 0.1, 0.1)\n",
    "ax.pie(delay_percentages, explode = explode, labels = delay_types,autopct='%1.2f%%')\n",
    "plt.title('Pie Chart of Delay Causes by Total Minutes Delayed for %s' %(location_input))\n",
    "plt.show()"
   ]
  },
  {
   "cell_type": "code",
   "execution_count": null,
   "metadata": {},
   "outputs": [],
   "source": []
  }
 ],
 "metadata": {
  "kernelspec": {
   "display_name": "Python 3",
   "language": "python",
   "name": "python3"
  },
  "language_info": {
   "codemirror_mode": {
    "name": "ipython",
    "version": 3
   },
   "file_extension": ".py",
   "mimetype": "text/x-python",
   "name": "python",
   "nbconvert_exporter": "python",
   "pygments_lexer": "ipython3",
   "version": "3.8.3"
  }
 },
 "nbformat": 4,
 "nbformat_minor": 4
}
